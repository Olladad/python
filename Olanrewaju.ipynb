{
 "cells": [
  {
   "cell_type": "code",
   "execution_count": 6,
   "id": "bfb8be7c",
   "metadata": {},
   "outputs": [],
   "source": [
    "import pandas as pd\n",
    "import numpy as np"
   ]
  },
  {
   "cell_type": "code",
   "execution_count": 16,
   "id": "5b9066b4",
   "metadata": {},
   "outputs": [
    {
     "name": "stdout",
     "output_type": "stream",
     "text": [
      "Year with the highest sum of Stock Variation: Y2014\n",
      "       Area Code      Area  Item Code           Item  Element Code  \\\n",
      "0              4   Algeria       2501     Population           511   \n",
      "1              4   Algeria       2501     Population          5301   \n",
      "2              4   Algeria       2901    Grand Total           664   \n",
      "3              4   Algeria       2901    Grand Total           674   \n",
      "4              4   Algeria       2901    Grand Total           684   \n",
      "...          ...       ...        ...            ...           ...   \n",
      "60938        181  Zimbabwe       2899  Miscellaneous          5142   \n",
      "60939        181  Zimbabwe       2899  Miscellaneous           645   \n",
      "60940        181  Zimbabwe       2899  Miscellaneous           664   \n",
      "60941        181  Zimbabwe       2899  Miscellaneous           674   \n",
      "60942        181  Zimbabwe       2899  Miscellaneous           684   \n",
      "\n",
      "                                      Element             Unit     Y2014  \\\n",
      "0               Total Population - Both sexes     1000 persons  38924.00   \n",
      "1                    Domestic supply quantity      1000 tonnes      0.00   \n",
      "2               Food supply (kcal/capita/day)  kcal/capita/day   3377.00   \n",
      "3      Protein supply quantity (g/capita/day)     g/capita/day     94.90   \n",
      "4          Fat supply quantity (g/capita/day)     g/capita/day     80.06   \n",
      "...                                       ...              ...       ...   \n",
      "60938                                    Food      1000 tonnes     42.00   \n",
      "60939     Food supply quantity (kg/capita/yr)               kg      3.06   \n",
      "60940           Food supply (kcal/capita/day)  kcal/capita/day      3.00   \n",
      "60941  Protein supply quantity (g/capita/day)     g/capita/day      0.10   \n",
      "60942      Fat supply quantity (g/capita/day)     g/capita/day      0.04   \n",
      "\n",
      "          Y2015     Y2016     Y2017     Y2018  \n",
      "0      39728.00  40551.00  41389.00  42228.00  \n",
      "1          0.00      0.00      0.00      0.00  \n",
      "2       3379.00   3372.00   3341.00   3322.00  \n",
      "3         94.35     94.72     92.82     91.83  \n",
      "4         79.36     77.40     80.19     77.28  \n",
      "...         ...       ...       ...       ...  \n",
      "60938     46.00     33.00     19.00     16.00  \n",
      "60939      3.33      2.35      1.33      1.08  \n",
      "60940      4.00      3.00      1.00      1.00  \n",
      "60941      0.11      0.08      0.04      0.04  \n",
      "60942      0.05      0.03      0.02      0.01  \n",
      "\n",
      "[60943 rows x 12 columns]\n"
     ]
    }
   ],
   "source": [
    "df = pd.read_csv(\"FoodBalanceSheets_E_Africa_NOFLAG.csv\", encoding = \"latin-1\")\n",
    "# print(df)\n",
    "stock_variation = df[df['Element'] == 'Stock Variation'].groupby('Element')[['Y2014', 'Y2015', 'Y2016', 'Y2017', 'Y2018']].sum()\n",
    "max_sum_year = stock_variation.idxmax(axis=1)[0]\n",
    "print(\"Year with the highest sum of Stock Variation:\", max_sum_year)\n",
    "print(df)"
   ]
  },
  {
   "cell_type": "code",
   "execution_count": 18,
   "id": "f6737ba0",
   "metadata": {},
   "outputs": [
    {
     "name": "stdout",
     "output_type": "stream",
     "text": [
      "Total sum of Processing in 2017: Element\n",
      "Processing    292836.0\n",
      "Name: Y2017, dtype: float64\n"
     ]
    }
   ],
   "source": [
    "processing_2017 = df[df['Element'] == 'Processing'].groupby('Element')['Y2017'].sum()\n",
    "print(\"Total sum of Processing in 2017:\", processing_2017)"
   ]
  },
  {
   "cell_type": "code",
   "execution_count": 29,
   "id": "2df02629",
   "metadata": {},
   "outputs": [
    {
     "name": "stdout",
     "output_type": "stream",
     "text": [
      "Total Protein supply quantity in Madagascar in 2015: 21120.649999999998\n"
     ]
    }
   ],
   "source": [
    "total_protein_supply_2015 = df[(df['Area'] == 'Madagascar') & (df['Element'] == 'Food')]['Y2015'].fillna(0).sum()\n",
    "\n",
    "# Print the total protein supply quantity in Madagascar in 2015\n",
    "print(\"Total Protein supply quantity in Madagascar in 2015:\", total_protein_supply_2015)"
   ]
  },
  {
   "cell_type": "code",
   "execution_count": 31,
   "id": "cb6a90c8",
   "metadata": {},
   "outputs": [
    {
     "name": "stdout",
     "output_type": "stream",
     "text": [
      "Total sum of Wine produced in 2015: 4251.81\n",
      "Total sum of Wine produced in 2018: 4039.32\n"
     ]
    }
   ],
   "source": [
    "wine_production = df[df['Item'] == 'Wine'].groupby('Item')[['Y2015', 'Y2018']].sum()\n",
    "\n",
    "# Print the total sum of Wine produced in 2015 and 2018 respectively\n",
    "print(\"Total sum of Wine produced in 2015:\", wine_production['Y2015'].values[0])\n",
    "print(\"Total sum of Wine produced in 2018:\", wine_production['Y2018'].values[0])"
   ]
  },
  {
   "cell_type": "code",
   "execution_count": 33,
   "id": "4ec7da9c",
   "metadata": {},
   "outputs": [
    {
     "name": "stdout",
     "output_type": "stream",
     "text": [
      "Year with the least correlation with 'Element Code': Y2016\n",
      "Correlation coefficient: 0.023443997584961428\n"
     ]
    }
   ],
   "source": [
    "correlation_with_element_code = df.filter(like='Y').corrwith(df['Element Code'])\n",
    "min_corr_year = correlation_with_element_code.idxmin()\n",
    "min_corr_value = correlation_with_element_code[min_corr_year]\n",
    "\n",
    "print(\"Year with the least correlation with 'Element Code':\", min_corr_year)\n",
    "print(\"Correlation coefficient:\", min_corr_value)"
   ]
  },
  {
   "cell_type": "code",
   "execution_count": 35,
   "id": "f5096b7f",
   "metadata": {},
   "outputs": [
    {
     "name": "stdout",
     "output_type": "stream",
     "text": [
      "Area with the 7th lowest sum in 2017: Guinea-Bissau\n"
     ]
    }
   ],
   "source": [
    "selected_columns = df[['Y2017', 'Area']]\n",
    "grouped = selected_columns.groupby('Area').sum().reset_index()\n",
    "sorted_grouped = grouped.sort_values(by='Y2017')\n",
    "seventh_lowest = sorted_grouped.iloc[6]  # Index starts from 0\n",
    "area_with_seventh_lowest_sum_2017 = seventh_lowest['Area']\n",
    "\n",
    "print(\"Area with the 7th lowest sum in 2017:\", area_with_seventh_lowest_sum_2017)"
   ]
  },
  {
   "cell_type": "code",
   "execution_count": 37,
   "id": "369f31e1",
   "metadata": {},
   "outputs": [
    {
     "name": "stdout",
     "output_type": "stream",
     "text": [
      "Total number of missing data in 2014: 1589\n",
      "Percentage of missing data in 2014: 2.607%\n"
     ]
    }
   ],
   "source": [
    "total_missing_2014 = df['Y2014'].isnull().sum()\n",
    "total_entries_2014 = df['Y2014'].shape[0]\n",
    "\n",
    "# Calculate percentage of missing data\n",
    "percentage_missing_2014 = (total_missing_2014 / total_entries_2014) * 100\n",
    "\n",
    "# Print the total number and percentage of missing data in 2014\n",
    "print(\"Total number of missing data in 2014:\", total_missing_2014)\n",
    "print(\"Percentage of missing data in 2014:\", \"{:.3f}%\".format(percentage_missing_2014))"
   ]
  },
  {
   "cell_type": "code",
   "execution_count": 38,
   "id": "c4070b68",
   "metadata": {},
   "outputs": [
    {
     "name": "stdout",
     "output_type": "stream",
     "text": [
      "Total number of unique countries in the dataset: 49\n"
     ]
    }
   ],
   "source": [
    "# Assuming df is your DataFrame containing the data\n",
    "total_unique_countries = df['Area'].nunique()\n",
    "\n",
    "# Print the total number of unique countries in the dataset\n",
    "print(\"Total number of unique countries in the dataset:\", total_unique_countries)\n"
   ]
  },
  {
   "cell_type": "code",
   "execution_count": 40,
   "id": "f5736dbc",
   "metadata": {},
   "outputs": [
    {
     "name": "stdout",
     "output_type": "stream",
     "text": [
      "Area with the highest sum in 2017: Nigeria\n"
     ]
    }
   ],
   "source": [
    "# Assuming df is your DataFrame containing the data\n",
    "selected_columns = df[['Y2017', 'Area']]\n",
    "grouped = selected_columns.groupby('Area').sum()\n",
    "area_with_highest_sum_2017 = grouped.idxmax()[0]\n",
    "\n",
    "print(\"Area with the highest sum in 2017:\", area_with_highest_sum_2017)\n"
   ]
  },
  {
   "cell_type": "code",
   "execution_count": 42,
   "id": "b788a936",
   "metadata": {},
   "outputs": [
    {
     "name": "stdout",
     "output_type": "stream",
     "text": [
      "   Age Nationality  Overall\n",
      "0   35    Portugal       94\n",
      "1   33   Argentina       93\n",
      "2   30      Brazil       92\n"
     ]
    }
   ],
   "source": [
    "# Given list\n",
    "lst = [[35, 'Portugal', 94], [33, 'Argentina', 93], [30, 'Brazil', 92]]\n",
    "\n",
    "# Column names\n",
    "col = ['Age', 'Nationality', 'Overall']\n",
    "\n",
    "# Create DataFrame\n",
    "df = pd.DataFrame(lst, columns=col)\n",
    "\n",
    "# Display DataFrame\n",
    "print(df)"
   ]
  },
  {
   "cell_type": "code",
   "execution_count": 45,
   "id": "261af095",
   "metadata": {},
   "outputs": [
    {
     "name": "stdout",
     "output_type": "stream",
     "text": [
      "Mean for year 2017:\n",
      "Y2017    95.6\n",
      "dtype: float64\n",
      "\n",
      "Standard deviation for year 2017:\n",
      "Y2017    55.54\n",
      "dtype: float64\n"
     ]
    }
   ],
   "source": [
    "# Create a sample DataFrame\n",
    "data = {'Area Code': [1, 1, 2, 2, 3],\n",
    "        'Area': ['East', 'East', 'West', 'West', 'North'],\n",
    "        'Item Code': ['A101', 'A102', 'B201', 'B202', 'C301'],\n",
    "        'Item': ['Pen', 'Pencil', 'Ruler', 'Eraser', 'Book'],\n",
    "        'Element Code': ['E1', 'E2', 'E3', 'E4', 'E5'],\n",
    "        'Element': ['Plastic', 'Wood', 'Plastic', 'Rubber', 'Paper'],\n",
    "        'Unit': ['Box', 'Unit', 'Unit', 'Unit', 'Unit'],\n",
    "        'Y2014': [100, 50, 70, 20, 150],\n",
    "        'Y2015': [120, 60, 80, 25, 160],\n",
    "        'Y2016': [110, 55, 75, 22, 155],\n",
    "        'Y2017': [130, 65, 85, 28, 170],\n",
    "        'Y2018': [140, 70, 90, 30, 180]}\n",
    "\n",
    "df = pd.DataFrame(data)\n",
    "\n",
    "# Select columns for year 2017\n",
    "year_2017 = df[['Y2017']]\n",
    "\n",
    "# Calculate mean and standard deviation across the entire dataset (all rows)\n",
    "mean_2017 = year_2017.mean(axis=0).round(2)\n",
    "std_2017 = year_2017.std(axis=0).round(2)\n",
    "\n",
    "# Print the results\n",
    "print(\"Mean for year 2017:\")\n",
    "print(mean_2017)\n",
    "\n",
    "print(\"\\nStandard deviation for year 2017:\")\n",
    "print(std_2017)\n"
   ]
  },
  {
   "cell_type": "code",
   "execution_count": 48,
   "id": "c5f3385a",
   "metadata": {},
   "outputs": [
    {
     "name": "stdout",
     "output_type": "stream",
     "text": [
      "   Age Nationality  Overall\n",
      "1   35    Portugal       94\n",
      "2   33   Argentina       93\n",
      "3   30      Brazil       92\n"
     ]
    }
   ],
   "source": [
    "lst = [[35, 'Portugal', 94], [33, 'Argentina', 93], [30 , 'Brazil', 92]]\n",
    "col = ['Age', 'Nationality', 'Overall']\n",
    "\n",
    "# Create DataFrame\n",
    "df = pd.DataFrame(lst, columns=col, index = [1, 2, 3])\n",
    "\n",
    "# Display DataFrame\n",
    "print(df)"
   ]
  },
  {
   "cell_type": "code",
   "execution_count": 53,
   "id": "4a3793ee",
   "metadata": {
    "scrolled": true
   },
   "outputs": [
    {
     "ename": "KeyError",
     "evalue": "'Year'",
     "output_type": "error",
     "traceback": [
      "\u001b[1;31m---------------------------------------------------------------------------\u001b[0m",
      "\u001b[1;31mKeyError\u001b[0m                                  Traceback (most recent call last)",
      "File \u001b[1;32mC:\\ProgramData\\anaconda3\\Lib\\site-packages\\pandas\\core\\indexes\\base.py:3653\u001b[0m, in \u001b[0;36mIndex.get_loc\u001b[1;34m(self, key)\u001b[0m\n\u001b[0;32m   3652\u001b[0m \u001b[38;5;28;01mtry\u001b[39;00m:\n\u001b[1;32m-> 3653\u001b[0m     \u001b[38;5;28;01mreturn\u001b[39;00m \u001b[38;5;28mself\u001b[39m\u001b[38;5;241m.\u001b[39m_engine\u001b[38;5;241m.\u001b[39mget_loc(casted_key)\n\u001b[0;32m   3654\u001b[0m \u001b[38;5;28;01mexcept\u001b[39;00m \u001b[38;5;167;01mKeyError\u001b[39;00m \u001b[38;5;28;01mas\u001b[39;00m err:\n",
      "File \u001b[1;32mC:\\ProgramData\\anaconda3\\Lib\\site-packages\\pandas\\_libs\\index.pyx:147\u001b[0m, in \u001b[0;36mpandas._libs.index.IndexEngine.get_loc\u001b[1;34m()\u001b[0m\n",
      "File \u001b[1;32mC:\\ProgramData\\anaconda3\\Lib\\site-packages\\pandas\\_libs\\index.pyx:176\u001b[0m, in \u001b[0;36mpandas._libs.index.IndexEngine.get_loc\u001b[1;34m()\u001b[0m\n",
      "File \u001b[1;32mpandas\\_libs\\hashtable_class_helper.pxi:7080\u001b[0m, in \u001b[0;36mpandas._libs.hashtable.PyObjectHashTable.get_item\u001b[1;34m()\u001b[0m\n",
      "File \u001b[1;32mpandas\\_libs\\hashtable_class_helper.pxi:7088\u001b[0m, in \u001b[0;36mpandas._libs.hashtable.PyObjectHashTable.get_item\u001b[1;34m()\u001b[0m\n",
      "\u001b[1;31mKeyError\u001b[0m: 'Year'",
      "\nThe above exception was the direct cause of the following exception:\n",
      "\u001b[1;31mKeyError\u001b[0m                                  Traceback (most recent call last)",
      "Cell \u001b[1;32mIn[53], line 3\u001b[0m\n\u001b[0;32m      1\u001b[0m \u001b[38;5;66;03m# Assuming df is your DataFrame containing the data\u001b[39;00m\n\u001b[0;32m      2\u001b[0m \u001b[38;5;66;03m# Filter rows where 'Nationality' is 'Madagascar' and 'Year' is 2015\u001b[39;00m\n\u001b[1;32m----> 3\u001b[0m madagascar_2015 \u001b[38;5;241m=\u001b[39m df[(df[\u001b[38;5;124m'\u001b[39m\u001b[38;5;124mNationality\u001b[39m\u001b[38;5;124m'\u001b[39m] \u001b[38;5;241m==\u001b[39m \u001b[38;5;124m'\u001b[39m\u001b[38;5;124mMadagascar\u001b[39m\u001b[38;5;124m'\u001b[39m) \u001b[38;5;241m&\u001b[39m (df[\u001b[38;5;124m'\u001b[39m\u001b[38;5;124mYear\u001b[39m\u001b[38;5;124m'\u001b[39m] \u001b[38;5;241m==\u001b[39m \u001b[38;5;241m2015\u001b[39m)]\n\u001b[0;32m      5\u001b[0m \u001b[38;5;66;03m# Sum the 'Protein supply quantity' values\u001b[39;00m\n\u001b[0;32m      6\u001b[0m total_protein_supply_madagascar_2015 \u001b[38;5;241m=\u001b[39m madagascar_2015[\u001b[38;5;124m'\u001b[39m\u001b[38;5;124mProtein supply quantity\u001b[39m\u001b[38;5;124m'\u001b[39m]\u001b[38;5;241m.\u001b[39msum()\n",
      "File \u001b[1;32mC:\\ProgramData\\anaconda3\\Lib\\site-packages\\pandas\\core\\frame.py:3761\u001b[0m, in \u001b[0;36mDataFrame.__getitem__\u001b[1;34m(self, key)\u001b[0m\n\u001b[0;32m   3759\u001b[0m \u001b[38;5;28;01mif\u001b[39;00m \u001b[38;5;28mself\u001b[39m\u001b[38;5;241m.\u001b[39mcolumns\u001b[38;5;241m.\u001b[39mnlevels \u001b[38;5;241m>\u001b[39m \u001b[38;5;241m1\u001b[39m:\n\u001b[0;32m   3760\u001b[0m     \u001b[38;5;28;01mreturn\u001b[39;00m \u001b[38;5;28mself\u001b[39m\u001b[38;5;241m.\u001b[39m_getitem_multilevel(key)\n\u001b[1;32m-> 3761\u001b[0m indexer \u001b[38;5;241m=\u001b[39m \u001b[38;5;28mself\u001b[39m\u001b[38;5;241m.\u001b[39mcolumns\u001b[38;5;241m.\u001b[39mget_loc(key)\n\u001b[0;32m   3762\u001b[0m \u001b[38;5;28;01mif\u001b[39;00m is_integer(indexer):\n\u001b[0;32m   3763\u001b[0m     indexer \u001b[38;5;241m=\u001b[39m [indexer]\n",
      "File \u001b[1;32mC:\\ProgramData\\anaconda3\\Lib\\site-packages\\pandas\\core\\indexes\\base.py:3655\u001b[0m, in \u001b[0;36mIndex.get_loc\u001b[1;34m(self, key)\u001b[0m\n\u001b[0;32m   3653\u001b[0m     \u001b[38;5;28;01mreturn\u001b[39;00m \u001b[38;5;28mself\u001b[39m\u001b[38;5;241m.\u001b[39m_engine\u001b[38;5;241m.\u001b[39mget_loc(casted_key)\n\u001b[0;32m   3654\u001b[0m \u001b[38;5;28;01mexcept\u001b[39;00m \u001b[38;5;167;01mKeyError\u001b[39;00m \u001b[38;5;28;01mas\u001b[39;00m err:\n\u001b[1;32m-> 3655\u001b[0m     \u001b[38;5;28;01mraise\u001b[39;00m \u001b[38;5;167;01mKeyError\u001b[39;00m(key) \u001b[38;5;28;01mfrom\u001b[39;00m \u001b[38;5;21;01merr\u001b[39;00m\n\u001b[0;32m   3656\u001b[0m \u001b[38;5;28;01mexcept\u001b[39;00m \u001b[38;5;167;01mTypeError\u001b[39;00m:\n\u001b[0;32m   3657\u001b[0m     \u001b[38;5;66;03m# If we have a listlike key, _check_indexing_error will raise\u001b[39;00m\n\u001b[0;32m   3658\u001b[0m     \u001b[38;5;66;03m#  InvalidIndexError. Otherwise we fall through and re-raise\u001b[39;00m\n\u001b[0;32m   3659\u001b[0m     \u001b[38;5;66;03m#  the TypeError.\u001b[39;00m\n\u001b[0;32m   3660\u001b[0m     \u001b[38;5;28mself\u001b[39m\u001b[38;5;241m.\u001b[39m_check_indexing_error(key)\n",
      "\u001b[1;31mKeyError\u001b[0m: 'Year'"
     ]
    }
   ],
   "source": [
    "# Assuming df is your DataFrame containing the data\n",
    "# Filter rows where 'Nationality' is 'Madagascar' and 'Year' is 2015\n",
    "madagascar_2015 = df[(df['Nationality'] == 'Madagascar') & (df['Year'] == 2015)]\n",
    "\n",
    "# Sum the 'Protein supply quantity' values\n",
    "total_protein_supply_madagascar_2015 = madagascar_2015['Protein supply quantity'].sum()\n",
    "\n",
    "print(\"Total Protein supply quantity in Madagascar in 2015:\", total_protein_supply_madagascar_2015)\n"
   ]
  },
  {
   "cell_type": "code",
   "execution_count": 56,
   "id": "7b16e388",
   "metadata": {},
   "outputs": [
    {
     "ename": "KeyError",
     "evalue": "'Food'",
     "output_type": "error",
     "traceback": [
      "\u001b[1;31m---------------------------------------------------------------------------\u001b[0m",
      "\u001b[1;31mKeyError\u001b[0m                                  Traceback (most recent call last)",
      "File \u001b[1;32mC:\\ProgramData\\anaconda3\\Lib\\site-packages\\pandas\\core\\indexes\\base.py:3653\u001b[0m, in \u001b[0;36mIndex.get_loc\u001b[1;34m(self, key)\u001b[0m\n\u001b[0;32m   3652\u001b[0m \u001b[38;5;28;01mtry\u001b[39;00m:\n\u001b[1;32m-> 3653\u001b[0m     \u001b[38;5;28;01mreturn\u001b[39;00m \u001b[38;5;28mself\u001b[39m\u001b[38;5;241m.\u001b[39m_engine\u001b[38;5;241m.\u001b[39mget_loc(casted_key)\n\u001b[0;32m   3654\u001b[0m \u001b[38;5;28;01mexcept\u001b[39;00m \u001b[38;5;167;01mKeyError\u001b[39;00m \u001b[38;5;28;01mas\u001b[39;00m err:\n",
      "File \u001b[1;32mC:\\ProgramData\\anaconda3\\Lib\\site-packages\\pandas\\_libs\\index.pyx:147\u001b[0m, in \u001b[0;36mpandas._libs.index.IndexEngine.get_loc\u001b[1;34m()\u001b[0m\n",
      "File \u001b[1;32mC:\\ProgramData\\anaconda3\\Lib\\site-packages\\pandas\\_libs\\index.pyx:176\u001b[0m, in \u001b[0;36mpandas._libs.index.IndexEngine.get_loc\u001b[1;34m()\u001b[0m\n",
      "File \u001b[1;32mpandas\\_libs\\hashtable_class_helper.pxi:7080\u001b[0m, in \u001b[0;36mpandas._libs.hashtable.PyObjectHashTable.get_item\u001b[1;34m()\u001b[0m\n",
      "File \u001b[1;32mpandas\\_libs\\hashtable_class_helper.pxi:7088\u001b[0m, in \u001b[0;36mpandas._libs.hashtable.PyObjectHashTable.get_item\u001b[1;34m()\u001b[0m\n",
      "\u001b[1;31mKeyError\u001b[0m: 'Food'",
      "\nThe above exception was the direct cause of the following exception:\n",
      "\u001b[1;31mKeyError\u001b[0m                                  Traceback (most recent call last)",
      "Cell \u001b[1;32mIn[56], line 6\u001b[0m\n\u001b[0;32m      3\u001b[0m madagascar_2015 \u001b[38;5;241m=\u001b[39m df[(df[\u001b[38;5;124m'\u001b[39m\u001b[38;5;124mNationality\u001b[39m\u001b[38;5;124m'\u001b[39m] \u001b[38;5;241m==\u001b[39m \u001b[38;5;124m'\u001b[39m\u001b[38;5;124mMadagascar\u001b[39m\u001b[38;5;124m'\u001b[39m) \u001b[38;5;241m&\u001b[39m (df[\u001b[38;5;124m'\u001b[39m\u001b[38;5;124mAge\u001b[39m\u001b[38;5;124m'\u001b[39m] \u001b[38;5;241m==\u001b[39m \u001b[38;5;241m2015\u001b[39m)]\n\u001b[0;32m      5\u001b[0m \u001b[38;5;66;03m# Sum the 'Protein supply quantity' values\u001b[39;00m\n\u001b[1;32m----> 6\u001b[0m total_protein_supply_madagascar_2015 \u001b[38;5;241m=\u001b[39m madagascar_2015[\u001b[38;5;124m'\u001b[39m\u001b[38;5;124mFood\u001b[39m\u001b[38;5;124m'\u001b[39m]\u001b[38;5;241m.\u001b[39msum()\n\u001b[0;32m      8\u001b[0m \u001b[38;5;28mprint\u001b[39m(\u001b[38;5;124m\"\u001b[39m\u001b[38;5;124mTotal Protein supply quantity in Madagascar in 2015:\u001b[39m\u001b[38;5;124m\"\u001b[39m, total_protein_supply_madagascar_2015)\n",
      "File \u001b[1;32mC:\\ProgramData\\anaconda3\\Lib\\site-packages\\pandas\\core\\frame.py:3761\u001b[0m, in \u001b[0;36mDataFrame.__getitem__\u001b[1;34m(self, key)\u001b[0m\n\u001b[0;32m   3759\u001b[0m \u001b[38;5;28;01mif\u001b[39;00m \u001b[38;5;28mself\u001b[39m\u001b[38;5;241m.\u001b[39mcolumns\u001b[38;5;241m.\u001b[39mnlevels \u001b[38;5;241m>\u001b[39m \u001b[38;5;241m1\u001b[39m:\n\u001b[0;32m   3760\u001b[0m     \u001b[38;5;28;01mreturn\u001b[39;00m \u001b[38;5;28mself\u001b[39m\u001b[38;5;241m.\u001b[39m_getitem_multilevel(key)\n\u001b[1;32m-> 3761\u001b[0m indexer \u001b[38;5;241m=\u001b[39m \u001b[38;5;28mself\u001b[39m\u001b[38;5;241m.\u001b[39mcolumns\u001b[38;5;241m.\u001b[39mget_loc(key)\n\u001b[0;32m   3762\u001b[0m \u001b[38;5;28;01mif\u001b[39;00m is_integer(indexer):\n\u001b[0;32m   3763\u001b[0m     indexer \u001b[38;5;241m=\u001b[39m [indexer]\n",
      "File \u001b[1;32mC:\\ProgramData\\anaconda3\\Lib\\site-packages\\pandas\\core\\indexes\\base.py:3655\u001b[0m, in \u001b[0;36mIndex.get_loc\u001b[1;34m(self, key)\u001b[0m\n\u001b[0;32m   3653\u001b[0m     \u001b[38;5;28;01mreturn\u001b[39;00m \u001b[38;5;28mself\u001b[39m\u001b[38;5;241m.\u001b[39m_engine\u001b[38;5;241m.\u001b[39mget_loc(casted_key)\n\u001b[0;32m   3654\u001b[0m \u001b[38;5;28;01mexcept\u001b[39;00m \u001b[38;5;167;01mKeyError\u001b[39;00m \u001b[38;5;28;01mas\u001b[39;00m err:\n\u001b[1;32m-> 3655\u001b[0m     \u001b[38;5;28;01mraise\u001b[39;00m \u001b[38;5;167;01mKeyError\u001b[39;00m(key) \u001b[38;5;28;01mfrom\u001b[39;00m \u001b[38;5;21;01merr\u001b[39;00m\n\u001b[0;32m   3656\u001b[0m \u001b[38;5;28;01mexcept\u001b[39;00m \u001b[38;5;167;01mTypeError\u001b[39;00m:\n\u001b[0;32m   3657\u001b[0m     \u001b[38;5;66;03m# If we have a listlike key, _check_indexing_error will raise\u001b[39;00m\n\u001b[0;32m   3658\u001b[0m     \u001b[38;5;66;03m#  InvalidIndexError. Otherwise we fall through and re-raise\u001b[39;00m\n\u001b[0;32m   3659\u001b[0m     \u001b[38;5;66;03m#  the TypeError.\u001b[39;00m\n\u001b[0;32m   3660\u001b[0m     \u001b[38;5;28mself\u001b[39m\u001b[38;5;241m.\u001b[39m_check_indexing_error(key)\n",
      "\u001b[1;31mKeyError\u001b[0m: 'Food'"
     ]
    }
   ],
   "source": [
    "# Assuming df is your DataFrame containing the data\n",
    "# Filter rows where 'Nationality' is 'Madagascar' and 'Age' is 2015\n",
    "madagascar_2015 = df[(df['Nationality'] == 'Madagascar') & (df['Age'] == 2015)]\n",
    "\n",
    "# Sum the 'Protein supply quantity' values\n",
    "total_protein_supply_madagascar_2015 = madagascar_2015['Food'].sum()\n",
    "\n",
    "print(\"Total Protein supply quantity in Madagascar in 2015:\", total_protein_supply_madagascar_2015)"
   ]
  }
 ],
 "metadata": {
  "kernelspec": {
   "display_name": "Python 3 (ipykernel)",
   "language": "python",
   "name": "python3"
  },
  "language_info": {
   "codemirror_mode": {
    "name": "ipython",
    "version": 3
   },
   "file_extension": ".py",
   "mimetype": "text/x-python",
   "name": "python",
   "nbconvert_exporter": "python",
   "pygments_lexer": "ipython3",
   "version": "3.11.5"
  }
 },
 "nbformat": 4,
 "nbformat_minor": 5
}
